{
 "cells": [
  {
   "cell_type": "code",
   "execution_count": null,
   "metadata": {},
   "outputs": [],
   "source": [
    "import os\n",
    "os.environ[\"ROCM_PATH\"] = \"/opt/rocm\"\n",
    "os.environ[\"HSA_OVERRIDE_GFX_VERSION\"] = \"10.3.0\"\n",
    "\n",
    "import numpy as np\n",
    "import matplotlib.pyplot as plt\n",
    "import chess\n",
    "import torch\n",
    "import math\n",
    "import warnings\n",
    "import train\n",
    "from utils import *\n",
    "from chess_net import ChessModel\n",
    "import parse_data\n",
    "import time\n",
    "\n",
    "from torch.utils.data.datapipes.iter import IterableWrapper, Shuffler # type: ignore\n",
    "\n",
    "device = torch.device(\"cuda\" if torch.cuda.is_available else \"cpu\")"
   ]
  },
  {
   "cell_type": "code",
   "execution_count": null,
   "metadata": {},
   "outputs": [],
   "source": [
    "with warnings.catch_warnings():\n",
    "    warnings.simplefilter('ignore')\n",
    "    piece_layer = {\"P\":0,\"R\":1,\"N\":2,\"B\":3,\"Q\":4, \"K\":5,\"p\":6,\"r\":7,\"n\":8,\"b\":9,\"q\":10, \"k\":11}\n",
    "\n",
    "    board=chess.Board()\n",
    "    board.push_san(\"e4\")\n",
    "    # board.push_san(\"Nf6\")\n",
    "    board.push_san(\"a5\")\n",
    "    board.push_san(\"e5\")\n",
    "    board.push_san(\"d5\")\n",
    "    board_rep = get_board_rep(board)\n",
    "    fig,axs = plt.subplots(4,6,subplot_kw={\n",
    "        \"xticklabels\":[\"\",\"\",\"\",\"\",\"\",\"\",\"\"], \n",
    "        \"yticklabels\":[\"\",\"\",\"\",\"\",\"\",\"\",\"\"],\n",
    "        \"xticks\":[0.5,1.5,2.5,3.5,4.5,5.5,6.5], \n",
    "        \"yticks\":[0.5,1.5,2.5,3.5,4.5,5.5,6.5]\n",
    "        },figsize=(20,10))\n",
    "    for i in range(4):\n",
    "        for j in range(6):\n",
    "            axs[i][j].grid(which='both', axis='both',lw=1,color='white')\n",
    "    for i in range(2):\n",
    "        for j in range(6):\n",
    "            axs[i][j].imshow(board_rep[6*i + j,:,:],vmin=0, vmax=1)\n",
    "            axs[i][j].set_title(list(piece_layer.keys())[6*i+j])\n",
    "    axs[2][0].imshow(board_rep[12,:,:],vmin=0, vmax=1)\n",
    "    axs[2][0].set_title('Player')\n",
    "    axs[2][1].imshow(board_rep[13,:,:],vmin=0, vmax=1)\n",
    "    axs[2][1].set_title('En passant')\n",
    "    axs[2][2].imshow(board_rep[14,:,:],vmin=0, vmax = 50)\n",
    "    axs[2][2].set_title('Half moves')\n",
    "    axs[2][3].imshow(board_rep[15,:,:],vmin=0, vmax = 150)\n",
    "    axs[2][3].set_title('Move count')\n",
    "    axs[3][0].imshow(board_rep[16,:,:],vmin=0, vmax=1)\n",
    "    axs[3][1].imshow(board_rep[17,:,:],vmin=0, vmax=1)\n",
    "    axs[3][2].imshow(board_rep[18,:,:],vmin=0, vmax=1)\n",
    "    axs[3][3].imshow(board_rep[19,:,:],vmin=0, vmax=1)\n",
    "    axs[3][0].set_title(\"White Kingside Castle\")\n",
    "    axs[3][1].set_title(\"White Queenside Castle\")\n",
    "    axs[3][2].set_title(\"Black Kingside Castle\")\n",
    "    axs[3][3].set_title(\"Black Queenside Castle\")\n",
    "    fig.savefig(\"img.png\")\n",
    "    #0-5 - white pawn/rook/knight/bishop/queen/king\n",
    "    #6-11 same for black\n",
    "    #12 current player's color -> 1 for white\n",
    "    #13 en passant square\n",
    "    #14 half moves since last capture\n",
    "    #15 moves this game\n",
    "    #16-#19 white kingside, white queenside, black kingside, black queenside castling rules"
   ]
  },
  {
   "cell_type": "code",
   "execution_count": null,
   "metadata": {},
   "outputs": [],
   "source": [
    "model = ChessModel().to('cuda')"
   ]
  },
  {
   "cell_type": "code",
   "execution_count": null,
   "metadata": {},
   "outputs": [],
   "source": [
    "board_rep_tensor = torch.tensor(board_rep).to('cuda')\n",
    "print(board_rep_tensor.shape)\n",
    "p, v = model(board_rep_tensor.unsqueeze(0))\n",
    "print(p.shape, v.shape)\n",
    "print(p,v)"
   ]
  },
  {
   "cell_type": "code",
   "execution_count": null,
   "metadata": {},
   "outputs": [],
   "source": [
    "show_move_rep(p)"
   ]
  },
  {
   "cell_type": "code",
   "execution_count": null,
   "metadata": {},
   "outputs": [],
   "source": [
    "optimizer = torch.optim.Adam(model.parameters(), lr=0.00025)\n",
    "policy_loss_fn = torch.nn.CrossEntropyLoss()\n",
    "value_loss_fn = torch.nn.MSELoss()\n",
    "epochs, model_path, loss, batch_size, print_counter, save_counter = 5, \"model.pt\", 0, 1024, 10, 200"
   ]
  },
  {
   "cell_type": "code",
   "execution_count": null,
   "metadata": {},
   "outputs": [],
   "source": [
    "training_history = {'loss' : []}"
   ]
  },
  {
   "cell_type": "code",
   "execution_count": null,
   "metadata": {},
   "outputs": [],
   "source": [
    "# checkpoint = torch.load(\"checkpoints/1/checkpoint_1_start.pt\")\n",
    "# model.load_state_dict(checkpoint['model_state_dict'])\n",
    "# optimizer.load_state_dict(checkpoint['optimizer_state_dict'])\n",
    "# start_epoch = checkpoint['epoch']\n",
    "# print(start_epoch)"
   ]
  },
  {
   "cell_type": "code",
   "execution_count": null,
   "metadata": {},
   "outputs": [],
   "source": [
    "for epoch in range(epochs):\n",
    "    torch.save({\n",
    "        'epoch' : epoch,\n",
    "        'model_state_dict':model.state_dict(),\n",
    "        'optimizer_state_dict' : optimizer.state_dict(),\n",
    "    }, f\"checkpoints/{epoch}/checkpoint_{epoch}_start.pt\")\n",
    "    print(f\"Epoch {epoch} checkpoint saved\")\n",
    "    loader = parse_data.dataloader_from_filepaths([\"/home/gerard/Documents/Personal/Programming/rl/chessai/data/lichess_2015/lichess_db_standard_rated_2015-09.pgn\"], batch_size=batch_size, num_workers=4)\n",
    "    losses = train.train_loop(loader, model, policy_loss_fn, value_loss_fn, optimizer, epoch)\n",
    "    training_history['loss'].append(losses)"
   ]
  },
  {
   "cell_type": "code",
   "execution_count": null,
   "metadata": {},
   "outputs": [],
   "source": []
  }
 ],
 "metadata": {
  "kernelspec": {
   "display_name": "venv",
   "language": "python",
   "name": "python3"
  },
  "language_info": {
   "codemirror_mode": {
    "name": "ipython",
    "version": 3
   },
   "file_extension": ".py",
   "mimetype": "text/x-python",
   "name": "python",
   "nbconvert_exporter": "python",
   "pygments_lexer": "ipython3",
   "version": "3.10.12"
  }
 },
 "nbformat": 4,
 "nbformat_minor": 2
}
