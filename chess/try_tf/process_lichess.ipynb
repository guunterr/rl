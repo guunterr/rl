{
 "cells": [
  {
   "cell_type": "code",
   "execution_count": 38,
   "metadata": {},
   "outputs": [
    {
     "name": "stdout",
     "output_type": "stream",
     "text": [
      "10167 d2d1b bishop b 3\n"
     ]
    }
   ],
   "source": [
    "import lichess.api\n",
    "import matplotlib.pyplot as plt\n",
    "import chess.pgn\n",
    "import numpy as np\n",
    "import itertools\n",
    "\n",
    "path_to_games = \"data/lichess_2013/lichess_db_standard_rated_2013-06.pgn\"\n",
    "    \n",
    "def position_generator(filepath):\n",
    "    pgn = open(filepath)\n",
    "    while True:\n",
    "        game = chess.pgn.read_game(pgn)\n",
    "        result = game.headers[\"Result\"]\n",
    "        while game is not None and game.next() is not None:\n",
    "            board = game.board()\n",
    "            move = game.next().move\n",
    "            player=board.turn\n",
    "            if result[1] == \"/\":\n",
    "                winning = 0\n",
    "            elif result[0] == \"1\":\n",
    "                if player == chess.WHITE:\n",
    "                    winning = 1\n",
    "                else:\n",
    "                    winning = -1\n",
    "            elif result[0] == \"0\":\n",
    "                if player == chess.WHITE:\n",
    "                    winning = -1\n",
    "                else:\n",
    "                    winning = 1\n",
    "            else:\n",
    "                raise RuntimeError(\"Don't know if this game is a win or a draw\")\n",
    "            yield board, move, winning\n",
    "            game = game.next()\n",
    "        \n",
    "def to_coords(square: chess.Square):\n",
    "    return 7-chess.square_rank(square),chess.square_file(square)\n",
    "\n",
    "def move_rep(move: chess.Move):\n",
    "    rep = np.zeros((8,8,76))\n",
    "\n",
    "\n",
    "    from_square, to_square = move.from_square, move.to_square\n",
    "    x,y = to_coords(to_square)\n",
    "    if move.promotion is not None:\n",
    "        piece_type = move.promotion - 2\n",
    "        from_x, from_y = to_coords(from_square)\n",
    "        layer = 64 + piece_type * 3 + from_x - x + 1\n",
    "        rep[x,y,layer] = 1\n",
    "        print(x,y,piece_type, from_x, layer)\n",
    "        return rep\n",
    "    else:\n",
    "        rep[x,y,from_square] = 1\n",
    "        return rep\n",
    "        \n",
    "gen = position_generator(path_to_games)\n",
    "pgn = open(path_to_games)\n",
    "count = 0\n",
    "for pos in gen:\n",
    "    # print(move_rep(pos[1])[:,:,6])\n",
    "    if pos[1].promotion is not None and pos[1].promotion != 5:\n",
    "        print(count, pos[1], chess.piece_name(pos[1].promotion), chess.piece_symbol(pos[1].promotion), pos[1].promotion)\n",
    "        break\n",
    "    count+=1\n",
    "    if count > 100000:\n",
    "        break"
   ]
  },
  {
   "cell_type": "code",
   "execution_count": null,
   "metadata": {},
   "outputs": [],
   "source": []
  }
 ],
 "metadata": {
  "kernelspec": {
   "display_name": "venv",
   "language": "python",
   "name": "python3"
  },
  "language_info": {
   "codemirror_mode": {
    "name": "ipython",
    "version": 3
   },
   "file_extension": ".py",
   "mimetype": "text/x-python",
   "name": "python",
   "nbconvert_exporter": "python",
   "pygments_lexer": "ipython3",
   "version": "3.10.12"
  }
 },
 "nbformat": 4,
 "nbformat_minor": 2
}
